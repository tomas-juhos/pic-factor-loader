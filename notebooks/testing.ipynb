{
 "cells": [
  {
   "cell_type": "code",
   "execution_count": 10,
   "metadata": {
    "collapsed": true
   },
   "outputs": [],
   "source": [
    "from dfs import Dataframes\n",
    "from helpers import Source\n",
    "import pandas as pd"
   ]
  },
  {
   "cell_type": "code",
   "execution_count": 3,
   "outputs": [
    {
     "data": {
      "text/plain": "        2010-01-05  2010-01-06  2010-01-07  2010-01-08  2010-01-11  \\\n061836   -0.029046    0.012821   -0.008439         NaN         NaN   \n164293   -0.009416    0.002852    0.006635   -0.004708    0.004730   \n012206    0.005335   -0.014741    0.013465    0.007381   -0.013775   \n176609   -0.015873   -0.022071    0.004340         NaN         NaN   \n149477    0.026786   -0.008696   -0.008772   -0.026549    0.018182   \n...            ...         ...         ...         ...         ...   \n066288         NaN         NaN         NaN         NaN         NaN   \n035030         NaN         NaN         NaN         NaN         NaN   \n061129         NaN         NaN         NaN         NaN         NaN   \n065176         NaN         NaN         NaN         NaN         NaN   \n176333         NaN         NaN         NaN         NaN         NaN   \n\n        2010-01-12  2010-01-13    2010-01-14  2010-01-15  2010-01-18  ...  \\\n061836   -0.008475   -0.017094 -1.234699e-09   -0.004348         NaN  ...   \n164293    0.002825    0.007512  6.589147e-02   -0.050000         NaN  ...   \n012206   -0.018128    0.013923  1.194031e-03   -0.006559         NaN  ...   \n176609         NaN   -0.005947 -6.837607e-03    0.016351         NaN  ...   \n149477   -0.035714    0.062500 -1.739131e-02   -0.035398         NaN  ...   \n...            ...         ...           ...         ...         ...  ...   \n066288         NaN         NaN           NaN         NaN         NaN  ...   \n035030         NaN         NaN           NaN         NaN         NaN  ...   \n061129         NaN         NaN           NaN         NaN         NaN  ...   \n065176         NaN         NaN           NaN         NaN         NaN  ...   \n176333         NaN         NaN           NaN         NaN         NaN  ...   \n\n        2023-02-13  2023-02-14  2023-02-15  2023-02-16  2023-02-21  \\\n061836         NaN         NaN         NaN         NaN         NaN   \n164293         NaN         NaN         NaN         NaN         NaN   \n012206         NaN         NaN         NaN         NaN         NaN   \n176609         NaN         NaN         NaN         NaN         NaN   \n149477         NaN         NaN         NaN         NaN         NaN   \n...            ...         ...         ...         ...         ...   \n066288    0.003497   -0.013304    0.006100   -0.005424   -0.014678   \n035030    0.014139   -0.026616    0.005208   -0.006477   -0.025641   \n061129    0.024112   -0.012392    0.012547   -0.007435   -0.031368   \n065176   -0.010571   -0.007886    0.004359   -0.014552   -0.010499   \n176333         NaN   -0.016129   -0.011840   -0.005530   -0.021218   \n\n        2023-02-22  2023-02-23  2023-02-24  2023-02-27  2023-02-28  \n061836         NaN         NaN         NaN         NaN         NaN  \n164293         NaN         NaN         NaN         NaN         NaN  \n012206         NaN         NaN         NaN         NaN         NaN  \n176609         NaN         NaN         NaN         NaN         NaN  \n149477         NaN         NaN         NaN         NaN         NaN  \n...            ...         ...         ...         ...         ...  \n066288   -0.005181    0.006836   -0.013902    0.007213   -0.003906  \n035030   -0.002699    0.007442   -0.019476    0.005479   -0.003406  \n061129         NaN         NaN   -0.018041   -0.006562    0.005284  \n065176   -0.000776    0.009065   -0.004107    0.004381         NaN  \n176333    0.002828    0.008459   -0.017707    0.014232    0.002806  \n\n[662 rows x 3423 columns]",
      "text/html": "<div>\n<style scoped>\n    .dataframe tbody tr th:only-of-type {\n        vertical-align: middle;\n    }\n\n    .dataframe tbody tr th {\n        vertical-align: top;\n    }\n\n    .dataframe thead th {\n        text-align: right;\n    }\n</style>\n<table border=\"1\" class=\"dataframe\">\n  <thead>\n    <tr style=\"text-align: right;\">\n      <th></th>\n      <th>2010-01-05</th>\n      <th>2010-01-06</th>\n      <th>2010-01-07</th>\n      <th>2010-01-08</th>\n      <th>2010-01-11</th>\n      <th>2010-01-12</th>\n      <th>2010-01-13</th>\n      <th>2010-01-14</th>\n      <th>2010-01-15</th>\n      <th>2010-01-18</th>\n      <th>...</th>\n      <th>2023-02-13</th>\n      <th>2023-02-14</th>\n      <th>2023-02-15</th>\n      <th>2023-02-16</th>\n      <th>2023-02-21</th>\n      <th>2023-02-22</th>\n      <th>2023-02-23</th>\n      <th>2023-02-24</th>\n      <th>2023-02-27</th>\n      <th>2023-02-28</th>\n    </tr>\n  </thead>\n  <tbody>\n    <tr>\n      <th>061836</th>\n      <td>-0.029046</td>\n      <td>0.012821</td>\n      <td>-0.008439</td>\n      <td>NaN</td>\n      <td>NaN</td>\n      <td>-0.008475</td>\n      <td>-0.017094</td>\n      <td>-1.234699e-09</td>\n      <td>-0.004348</td>\n      <td>NaN</td>\n      <td>...</td>\n      <td>NaN</td>\n      <td>NaN</td>\n      <td>NaN</td>\n      <td>NaN</td>\n      <td>NaN</td>\n      <td>NaN</td>\n      <td>NaN</td>\n      <td>NaN</td>\n      <td>NaN</td>\n      <td>NaN</td>\n    </tr>\n    <tr>\n      <th>164293</th>\n      <td>-0.009416</td>\n      <td>0.002852</td>\n      <td>0.006635</td>\n      <td>-0.004708</td>\n      <td>0.004730</td>\n      <td>0.002825</td>\n      <td>0.007512</td>\n      <td>6.589147e-02</td>\n      <td>-0.050000</td>\n      <td>NaN</td>\n      <td>...</td>\n      <td>NaN</td>\n      <td>NaN</td>\n      <td>NaN</td>\n      <td>NaN</td>\n      <td>NaN</td>\n      <td>NaN</td>\n      <td>NaN</td>\n      <td>NaN</td>\n      <td>NaN</td>\n      <td>NaN</td>\n    </tr>\n    <tr>\n      <th>012206</th>\n      <td>0.005335</td>\n      <td>-0.014741</td>\n      <td>0.013465</td>\n      <td>0.007381</td>\n      <td>-0.013775</td>\n      <td>-0.018128</td>\n      <td>0.013923</td>\n      <td>1.194031e-03</td>\n      <td>-0.006559</td>\n      <td>NaN</td>\n      <td>...</td>\n      <td>NaN</td>\n      <td>NaN</td>\n      <td>NaN</td>\n      <td>NaN</td>\n      <td>NaN</td>\n      <td>NaN</td>\n      <td>NaN</td>\n      <td>NaN</td>\n      <td>NaN</td>\n      <td>NaN</td>\n    </tr>\n    <tr>\n      <th>176609</th>\n      <td>-0.015873</td>\n      <td>-0.022071</td>\n      <td>0.004340</td>\n      <td>NaN</td>\n      <td>NaN</td>\n      <td>NaN</td>\n      <td>-0.005947</td>\n      <td>-6.837607e-03</td>\n      <td>0.016351</td>\n      <td>NaN</td>\n      <td>...</td>\n      <td>NaN</td>\n      <td>NaN</td>\n      <td>NaN</td>\n      <td>NaN</td>\n      <td>NaN</td>\n      <td>NaN</td>\n      <td>NaN</td>\n      <td>NaN</td>\n      <td>NaN</td>\n      <td>NaN</td>\n    </tr>\n    <tr>\n      <th>149477</th>\n      <td>0.026786</td>\n      <td>-0.008696</td>\n      <td>-0.008772</td>\n      <td>-0.026549</td>\n      <td>0.018182</td>\n      <td>-0.035714</td>\n      <td>0.062500</td>\n      <td>-1.739131e-02</td>\n      <td>-0.035398</td>\n      <td>NaN</td>\n      <td>...</td>\n      <td>NaN</td>\n      <td>NaN</td>\n      <td>NaN</td>\n      <td>NaN</td>\n      <td>NaN</td>\n      <td>NaN</td>\n      <td>NaN</td>\n      <td>NaN</td>\n      <td>NaN</td>\n      <td>NaN</td>\n    </tr>\n    <tr>\n      <th>...</th>\n      <td>...</td>\n      <td>...</td>\n      <td>...</td>\n      <td>...</td>\n      <td>...</td>\n      <td>...</td>\n      <td>...</td>\n      <td>...</td>\n      <td>...</td>\n      <td>...</td>\n      <td>...</td>\n      <td>...</td>\n      <td>...</td>\n      <td>...</td>\n      <td>...</td>\n      <td>...</td>\n      <td>...</td>\n      <td>...</td>\n      <td>...</td>\n      <td>...</td>\n      <td>...</td>\n    </tr>\n    <tr>\n      <th>066288</th>\n      <td>NaN</td>\n      <td>NaN</td>\n      <td>NaN</td>\n      <td>NaN</td>\n      <td>NaN</td>\n      <td>NaN</td>\n      <td>NaN</td>\n      <td>NaN</td>\n      <td>NaN</td>\n      <td>NaN</td>\n      <td>...</td>\n      <td>0.003497</td>\n      <td>-0.013304</td>\n      <td>0.006100</td>\n      <td>-0.005424</td>\n      <td>-0.014678</td>\n      <td>-0.005181</td>\n      <td>0.006836</td>\n      <td>-0.013902</td>\n      <td>0.007213</td>\n      <td>-0.003906</td>\n    </tr>\n    <tr>\n      <th>035030</th>\n      <td>NaN</td>\n      <td>NaN</td>\n      <td>NaN</td>\n      <td>NaN</td>\n      <td>NaN</td>\n      <td>NaN</td>\n      <td>NaN</td>\n      <td>NaN</td>\n      <td>NaN</td>\n      <td>NaN</td>\n      <td>...</td>\n      <td>0.014139</td>\n      <td>-0.026616</td>\n      <td>0.005208</td>\n      <td>-0.006477</td>\n      <td>-0.025641</td>\n      <td>-0.002699</td>\n      <td>0.007442</td>\n      <td>-0.019476</td>\n      <td>0.005479</td>\n      <td>-0.003406</td>\n    </tr>\n    <tr>\n      <th>061129</th>\n      <td>NaN</td>\n      <td>NaN</td>\n      <td>NaN</td>\n      <td>NaN</td>\n      <td>NaN</td>\n      <td>NaN</td>\n      <td>NaN</td>\n      <td>NaN</td>\n      <td>NaN</td>\n      <td>NaN</td>\n      <td>...</td>\n      <td>0.024112</td>\n      <td>-0.012392</td>\n      <td>0.012547</td>\n      <td>-0.007435</td>\n      <td>-0.031368</td>\n      <td>NaN</td>\n      <td>NaN</td>\n      <td>-0.018041</td>\n      <td>-0.006562</td>\n      <td>0.005284</td>\n    </tr>\n    <tr>\n      <th>065176</th>\n      <td>NaN</td>\n      <td>NaN</td>\n      <td>NaN</td>\n      <td>NaN</td>\n      <td>NaN</td>\n      <td>NaN</td>\n      <td>NaN</td>\n      <td>NaN</td>\n      <td>NaN</td>\n      <td>NaN</td>\n      <td>...</td>\n      <td>-0.010571</td>\n      <td>-0.007886</td>\n      <td>0.004359</td>\n      <td>-0.014552</td>\n      <td>-0.010499</td>\n      <td>-0.000776</td>\n      <td>0.009065</td>\n      <td>-0.004107</td>\n      <td>0.004381</td>\n      <td>NaN</td>\n    </tr>\n    <tr>\n      <th>176333</th>\n      <td>NaN</td>\n      <td>NaN</td>\n      <td>NaN</td>\n      <td>NaN</td>\n      <td>NaN</td>\n      <td>NaN</td>\n      <td>NaN</td>\n      <td>NaN</td>\n      <td>NaN</td>\n      <td>NaN</td>\n      <td>...</td>\n      <td>NaN</td>\n      <td>-0.016129</td>\n      <td>-0.011840</td>\n      <td>-0.005530</td>\n      <td>-0.021218</td>\n      <td>0.002828</td>\n      <td>0.008459</td>\n      <td>-0.017707</td>\n      <td>0.014232</td>\n      <td>0.002806</td>\n    </tr>\n  </tbody>\n</table>\n<p>662 rows × 3423 columns</p>\n</div>"
     },
     "execution_count": 3,
     "metadata": {},
     "output_type": "execute_result"
    }
   ],
   "source": [
    "Dataframes.bse"
   ],
   "metadata": {
    "collapsed": false
   }
  },
  {
   "cell_type": "code",
   "execution_count": 15,
   "outputs": [
    {
     "data": {
      "text/plain": "           datadate   gvkey       rtn\n0        2010-01-05  061836 -0.029046\n1        2010-01-05  164293 -0.009416\n2        2010-01-05  012206  0.005335\n3        2010-01-05  176609 -0.015873\n4        2010-01-05  149477  0.026786\n...             ...     ...       ...\n2266021  2023-02-28  066288 -0.003906\n2266022  2023-02-28  035030 -0.003406\n2266023  2023-02-28  061129  0.005284\n2266024  2023-02-28  065176       NaN\n2266025  2023-02-28  176333  0.002806\n\n[2266026 rows x 3 columns]",
      "text/html": "<div>\n<style scoped>\n    .dataframe tbody tr th:only-of-type {\n        vertical-align: middle;\n    }\n\n    .dataframe tbody tr th {\n        vertical-align: top;\n    }\n\n    .dataframe thead th {\n        text-align: right;\n    }\n</style>\n<table border=\"1\" class=\"dataframe\">\n  <thead>\n    <tr style=\"text-align: right;\">\n      <th></th>\n      <th>datadate</th>\n      <th>gvkey</th>\n      <th>rtn</th>\n    </tr>\n  </thead>\n  <tbody>\n    <tr>\n      <th>0</th>\n      <td>2010-01-05</td>\n      <td>061836</td>\n      <td>-0.029046</td>\n    </tr>\n    <tr>\n      <th>1</th>\n      <td>2010-01-05</td>\n      <td>164293</td>\n      <td>-0.009416</td>\n    </tr>\n    <tr>\n      <th>2</th>\n      <td>2010-01-05</td>\n      <td>012206</td>\n      <td>0.005335</td>\n    </tr>\n    <tr>\n      <th>3</th>\n      <td>2010-01-05</td>\n      <td>176609</td>\n      <td>-0.015873</td>\n    </tr>\n    <tr>\n      <th>4</th>\n      <td>2010-01-05</td>\n      <td>149477</td>\n      <td>0.026786</td>\n    </tr>\n    <tr>\n      <th>...</th>\n      <td>...</td>\n      <td>...</td>\n      <td>...</td>\n    </tr>\n    <tr>\n      <th>2266021</th>\n      <td>2023-02-28</td>\n      <td>066288</td>\n      <td>-0.003906</td>\n    </tr>\n    <tr>\n      <th>2266022</th>\n      <td>2023-02-28</td>\n      <td>035030</td>\n      <td>-0.003406</td>\n    </tr>\n    <tr>\n      <th>2266023</th>\n      <td>2023-02-28</td>\n      <td>061129</td>\n      <td>0.005284</td>\n    </tr>\n    <tr>\n      <th>2266024</th>\n      <td>2023-02-28</td>\n      <td>065176</td>\n      <td>NaN</td>\n    </tr>\n    <tr>\n      <th>2266025</th>\n      <td>2023-02-28</td>\n      <td>176333</td>\n      <td>0.002806</td>\n    </tr>\n  </tbody>\n</table>\n<p>2266026 rows × 3 columns</p>\n</div>"
     },
     "execution_count": 15,
     "metadata": {},
     "output_type": "execute_result"
    }
   ],
   "source": [
    "s = Source(\"local_data\")\n",
    "bse_records = s.get_records(\"best_ever_strategy_short_returns.parquet\", True)\n",
    "bse_unflated = pd.DataFrame.from_records(bse_records, columns=['datadate', 'gvkey', 'rtn'])\n",
    "bse_unflated\n",
    "# bse_unflated.to_csv('best_ever_strategy.csv', index=False)"
   ],
   "metadata": {
    "collapsed": false
   }
  }
 ],
 "metadata": {
  "kernelspec": {
   "display_name": "Python 3",
   "language": "python",
   "name": "python3"
  },
  "language_info": {
   "codemirror_mode": {
    "name": "ipython",
    "version": 2
   },
   "file_extension": ".py",
   "mimetype": "text/x-python",
   "name": "python",
   "nbconvert_exporter": "python",
   "pygments_lexer": "ipython2",
   "version": "2.7.6"
  }
 },
 "nbformat": 4,
 "nbformat_minor": 0
}
